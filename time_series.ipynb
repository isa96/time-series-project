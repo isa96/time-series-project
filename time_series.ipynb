{
  "cells": [
    {
      "cell_type": "markdown",
      "metadata": {
        "id": "RKkuq4MQZQX6"
      },
      "source": [
        "Sumber Data : https://www.kaggle.com/szrlee/stock-time-series-20050101-to-20171231?select=AABA_2006-01-01_to_2018-01-01.csv"
      ]
    },
    {
      "cell_type": "code",
      "execution_count": null,
      "metadata": {
        "colab": {
          "base_uri": "https://localhost:8080/"
        },
        "id": "ndv0pj7CRFse",
        "outputId": "8e524b60-d74f-456e-c320-73dfc0f9c8e0"
      },
      "outputs": [
        {
          "name": "stdout",
          "output_type": "stream",
          "text": [
            "Found GPU at: /device:GPU:0\n"
          ]
        }
      ],
      "source": [
        "%tensorflow_version 2.x\n",
        "import tensorflow as tf\n",
        "device_name = tf.test.gpu_device_name()\n",
        "if device_name != '/device:GPU:0':\n",
        "  raise SystemError('GPU device not found')\n",
        "print('Found GPU at: {}'.format(device_name))"
      ]
    },
    {
      "cell_type": "code",
      "execution_count": null,
      "metadata": {
        "colab": {
          "base_uri": "https://localhost:8080/"
        },
        "id": "QTP_CEIBRLI1",
        "outputId": "dbe36bbd-b5ba-48c9-f9e8-bd97e5f987c0"
      },
      "outputs": [
        {
          "name": "stdout",
          "output_type": "stream",
          "text": [
            "Time (s) to convolve 32x7x7x3 filter over random 100x100x100x3 images (batch x height x width x channel). Sum of ten runs.\n",
            "CPU (s):\n",
            "3.683146898000004\n",
            "GPU (s):\n",
            "0.045938444999990224\n",
            "GPU speedup over CPU: 80x\n"
          ]
        }
      ],
      "source": [
        "%tensorflow_version 2.x\n",
        "import tensorflow as tf\n",
        "import timeit\n",
        "\n",
        "device_name = tf.test.gpu_device_name()\n",
        "if device_name != '/device:GPU:0':\n",
        "  print(\n",
        "      '\\n\\nThis error most likely means that this notebook is not '\n",
        "      'configured to use a GPU.  Change this in Notebook Settings via the '\n",
        "      'command palette (cmd/ctrl-shift-P) or the Edit menu.\\n\\n')\n",
        "  raise SystemError('GPU device not found')\n",
        "\n",
        "def cpu():\n",
        "  with tf.device('/cpu:0'):\n",
        "    random_image_cpu = tf.random.normal((100, 100, 100, 3))\n",
        "    net_cpu = tf.keras.layers.Conv2D(32, 7)(random_image_cpu)\n",
        "    return tf.math.reduce_sum(net_cpu)\n",
        "\n",
        "def gpu():\n",
        "  with tf.device('/device:GPU:0'):\n",
        "    random_image_gpu = tf.random.normal((100, 100, 100, 3))\n",
        "    net_gpu = tf.keras.layers.Conv2D(32, 7)(random_image_gpu)\n",
        "    return tf.math.reduce_sum(net_gpu)\n",
        "  \n",
        "# We run each op once to warm up; see: https://stackoverflow.com/a/45067900\n",
        "cpu()\n",
        "gpu()\n",
        "\n",
        "# Run the op several times.\n",
        "print('Time (s) to convolve 32x7x7x3 filter over random 100x100x100x3 images '\n",
        "      '(batch x height x width x channel). Sum of ten runs.')\n",
        "print('CPU (s):')\n",
        "cpu_time = timeit.timeit('cpu()', number=10, setup=\"from __main__ import cpu\")\n",
        "print(cpu_time)\n",
        "print('GPU (s):')\n",
        "gpu_time = timeit.timeit('gpu()', number=10, setup=\"from __main__ import gpu\")\n",
        "print(gpu_time)\n",
        "print('GPU speedup over CPU: {}x'.format(int(cpu_time/gpu_time)))"
      ]
    },
    {
      "cell_type": "code",
      "execution_count": null,
      "metadata": {
        "id": "JuecvFJXRPqh"
      },
      "outputs": [],
      "source": [
        "import numpy as np\n",
        "import pandas as pd\n",
        "import matplotlib.pyplot as plt\n",
        "import tensorflow as tf"
      ]
    },
    {
      "cell_type": "code",
      "execution_count": null,
      "metadata": {
        "id": "gfdP5Z04RaR-"
      },
      "outputs": [],
      "source": [
        "df = pd.read_csv('AABA_2006-01-01_to_2018-01-01.csv', parse_dates=['Date'])"
      ]
    },
    {
      "cell_type": "code",
      "execution_count": null,
      "metadata": {
        "colab": {
          "base_uri": "https://localhost:8080/",
          "height": 237
        },
        "id": "o2t1VTkNRpoX",
        "outputId": "62f53545-2bcf-4cc6-d058-78b22d003334"
      },
      "outputs": [
        {
          "data": {
            "text/html": [
              "<div>\n",
              "<style scoped>\n",
              "    .dataframe tbody tr th:only-of-type {\n",
              "        vertical-align: middle;\n",
              "    }\n",
              "\n",
              "    .dataframe tbody tr th {\n",
              "        vertical-align: top;\n",
              "    }\n",
              "\n",
              "    .dataframe thead th {\n",
              "        text-align: right;\n",
              "    }\n",
              "</style>\n",
              "<table border=\"1\" class=\"dataframe\">\n",
              "  <thead>\n",
              "    <tr style=\"text-align: right;\">\n",
              "      <th></th>\n",
              "      <th>Date</th>\n",
              "      <th>Open</th>\n",
              "      <th>High</th>\n",
              "      <th>Low</th>\n",
              "      <th>Close</th>\n",
              "      <th>Volume</th>\n",
              "      <th>Name</th>\n",
              "    </tr>\n",
              "  </thead>\n",
              "  <tbody>\n",
              "    <tr>\n",
              "      <th>0</th>\n",
              "      <td>2006-01-03</td>\n",
              "      <td>39.69</td>\n",
              "      <td>41.22</td>\n",
              "      <td>38.79</td>\n",
              "      <td>40.91</td>\n",
              "      <td>24232729</td>\n",
              "      <td>AABA</td>\n",
              "    </tr>\n",
              "    <tr>\n",
              "      <th>1</th>\n",
              "      <td>2006-01-04</td>\n",
              "      <td>41.22</td>\n",
              "      <td>41.90</td>\n",
              "      <td>40.77</td>\n",
              "      <td>40.97</td>\n",
              "      <td>20553479</td>\n",
              "      <td>AABA</td>\n",
              "    </tr>\n",
              "    <tr>\n",
              "      <th>2</th>\n",
              "      <td>2006-01-05</td>\n",
              "      <td>40.93</td>\n",
              "      <td>41.73</td>\n",
              "      <td>40.85</td>\n",
              "      <td>41.53</td>\n",
              "      <td>12829610</td>\n",
              "      <td>AABA</td>\n",
              "    </tr>\n",
              "    <tr>\n",
              "      <th>3</th>\n",
              "      <td>2006-01-06</td>\n",
              "      <td>42.88</td>\n",
              "      <td>43.57</td>\n",
              "      <td>42.80</td>\n",
              "      <td>43.21</td>\n",
              "      <td>29422828</td>\n",
              "      <td>AABA</td>\n",
              "    </tr>\n",
              "    <tr>\n",
              "      <th>4</th>\n",
              "      <td>2006-01-09</td>\n",
              "      <td>43.10</td>\n",
              "      <td>43.66</td>\n",
              "      <td>42.82</td>\n",
              "      <td>43.42</td>\n",
              "      <td>16268338</td>\n",
              "      <td>AABA</td>\n",
              "    </tr>\n",
              "    <tr>\n",
              "      <th>5</th>\n",
              "      <td>2006-01-10</td>\n",
              "      <td>42.96</td>\n",
              "      <td>43.34</td>\n",
              "      <td>42.34</td>\n",
              "      <td>42.98</td>\n",
              "      <td>16288580</td>\n",
              "      <td>AABA</td>\n",
              "    </tr>\n",
              "  </tbody>\n",
              "</table>\n",
              "</div>"
            ],
            "text/plain": [
              "        Date   Open   High    Low  Close    Volume  Name\n",
              "0 2006-01-03  39.69  41.22  38.79  40.91  24232729  AABA\n",
              "1 2006-01-04  41.22  41.90  40.77  40.97  20553479  AABA\n",
              "2 2006-01-05  40.93  41.73  40.85  41.53  12829610  AABA\n",
              "3 2006-01-06  42.88  43.57  42.80  43.21  29422828  AABA\n",
              "4 2006-01-09  43.10  43.66  42.82  43.42  16268338  AABA\n",
              "5 2006-01-10  42.96  43.34  42.34  42.98  16288580  AABA"
            ]
          },
          "execution_count": 5,
          "metadata": {},
          "output_type": "execute_result"
        }
      ],
      "source": [
        "df.head(6)"
      ]
    },
    {
      "cell_type": "code",
      "execution_count": null,
      "metadata": {
        "colab": {
          "base_uri": "https://localhost:8080/",
          "height": 551
        },
        "id": "i5YJQPqRRsOb",
        "outputId": "14b40718-d6cc-4dc2-b573-fcc29e14c509"
      },
      "outputs": [
        {
          "data": {
            "text/plain": [
              "<matplotlib.axes._subplots.AxesSubplot at 0x7fbe5fde76d0>"
            ]
          },
          "execution_count": 6,
          "metadata": {},
          "output_type": "execute_result"
        },
        {
          "data": {
            "image/png": "[encoded data removed]",
            "text/plain": [
              "<Figure size 1800x720 with 3 Axes>"
            ]
          },
          "metadata": {
            "needs_background": "light"
          },
          "output_type": "display_data"
        }
      ],
      "source": [
        "import missingno as mons\n",
        "\n",
        "mons.bar(df)"
      ]
    },
    {
      "cell_type": "code",
      "execution_count": null,
      "metadata": {
        "colab": {
          "base_uri": "https://localhost:8080/"
        },
        "id": "OGB3aWuxRwOu",
        "outputId": "99830afb-42b1-44ac-bb44-ac2974fc507d"
      },
      "outputs": [
        {
          "data": {
            "text/plain": [
              "(3019, 7)"
            ]
          },
          "execution_count": 7,
          "metadata": {},
          "output_type": "execute_result"
        }
      ],
      "source": [
        "df.shape"
      ]
    },
    {
      "cell_type": "code",
      "execution_count": null,
      "metadata": {
        "colab": {
          "base_uri": "https://localhost:8080/"
        },
        "id": "lRTJbFzqR1Ls",
        "outputId": "99f6730c-b2de-4446-a382-3a22cbb7a35e"
      },
      "outputs": [
        {
          "data": {
            "text/plain": [
              "Date      0\n",
              "Open      0\n",
              "High      0\n",
              "Low       0\n",
              "Close     0\n",
              "Volume    0\n",
              "Name      0\n",
              "dtype: int64"
            ]
          },
          "execution_count": 8,
          "metadata": {},
          "output_type": "execute_result"
        }
      ],
      "source": [
        "df.isnull().sum()"
      ]
    },
    {
      "cell_type": "code",
      "execution_count": null,
      "metadata": {
        "colab": {
          "base_uri": "https://localhost:8080/",
          "height": 300
        },
        "id": "fjq5HviHR3IY",
        "outputId": "e5ff0a9c-3c70-4958-9e5a-fe8859a88feb"
      },
      "outputs": [
        {
          "data": {
            "text/html": [
              "<div>\n",
              "<style scoped>\n",
              "    .dataframe tbody tr th:only-of-type {\n",
              "        vertical-align: middle;\n",
              "    }\n",
              "\n",
              "    .dataframe tbody tr th {\n",
              "        vertical-align: top;\n",
              "    }\n",
              "\n",
              "    .dataframe thead th {\n",
              "        text-align: right;\n",
              "    }\n",
              "</style>\n",
              "<table border=\"1\" class=\"dataframe\">\n",
              "  <thead>\n",
              "    <tr style=\"text-align: right;\">\n",
              "      <th></th>\n",
              "      <th>Open</th>\n",
              "      <th>High</th>\n",
              "      <th>Low</th>\n",
              "      <th>Close</th>\n",
              "      <th>Volume</th>\n",
              "    </tr>\n",
              "  </thead>\n",
              "  <tbody>\n",
              "    <tr>\n",
              "      <th>count</th>\n",
              "      <td>3019.000000</td>\n",
              "      <td>3019.000000</td>\n",
              "      <td>3019.000000</td>\n",
              "      <td>3019.000000</td>\n",
              "      <td>3.019000e+03</td>\n",
              "    </tr>\n",
              "    <tr>\n",
              "      <th>mean</th>\n",
              "      <td>28.426479</td>\n",
              "      <td>28.766532</td>\n",
              "      <td>28.066558</td>\n",
              "      <td>28.412726</td>\n",
              "      <td>2.158391e+07</td>\n",
              "    </tr>\n",
              "    <tr>\n",
              "      <th>std</th>\n",
              "      <td>13.257242</td>\n",
              "      <td>13.356692</td>\n",
              "      <td>13.157326</td>\n",
              "      <td>13.258163</td>\n",
              "      <td>1.926231e+07</td>\n",
              "    </tr>\n",
              "    <tr>\n",
              "      <th>min</th>\n",
              "      <td>9.100000</td>\n",
              "      <td>9.480000</td>\n",
              "      <td>8.940000</td>\n",
              "      <td>8.950000</td>\n",
              "      <td>1.939061e+06</td>\n",
              "    </tr>\n",
              "    <tr>\n",
              "      <th>25%</th>\n",
              "      <td>16.175000</td>\n",
              "      <td>16.385000</td>\n",
              "      <td>15.970000</td>\n",
              "      <td>16.130000</td>\n",
              "      <td>1.248025e+07</td>\n",
              "    </tr>\n",
              "    <tr>\n",
              "      <th>50%</th>\n",
              "      <td>27.180000</td>\n",
              "      <td>27.490000</td>\n",
              "      <td>26.820000</td>\n",
              "      <td>27.100000</td>\n",
              "      <td>1.732130e+07</td>\n",
              "    </tr>\n",
              "    <tr>\n",
              "      <th>75%</th>\n",
              "      <td>36.655000</td>\n",
              "      <td>37.035000</td>\n",
              "      <td>36.305000</td>\n",
              "      <td>36.635000</td>\n",
              "      <td>2.512757e+07</td>\n",
              "    </tr>\n",
              "    <tr>\n",
              "      <th>max</th>\n",
              "      <td>73.020000</td>\n",
              "      <td>73.250000</td>\n",
              "      <td>72.460000</td>\n",
              "      <td>72.930000</td>\n",
              "      <td>4.382317e+08</td>\n",
              "    </tr>\n",
              "  </tbody>\n",
              "</table>\n",
              "</div>"
            ],
            "text/plain": [
              "              Open         High          Low        Close        Volume\n",
              "count  3019.000000  3019.000000  3019.000000  3019.000000  3.019000e+03\n",
              "mean     28.426479    28.766532    28.066558    28.412726  2.158391e+07\n",
              "std      13.257242    13.356692    13.157326    13.258163  1.926231e+07\n",
              "min       9.100000     9.480000     8.940000     8.950000  1.939061e+06\n",
              "25%      16.175000    16.385000    15.970000    16.130000  1.248025e+07\n",
              "50%      27.180000    27.490000    26.820000    27.100000  1.732130e+07\n",
              "75%      36.655000    37.035000    36.305000    36.635000  2.512757e+07\n",
              "max      73.020000    73.250000    72.460000    72.930000  4.382317e+08"
            ]
          },
          "execution_count": 9,
          "metadata": {},
          "output_type": "execute_result"
        }
      ],
      "source": [
        "df.describe()"
      ]
    },
    {
      "cell_type": "code",
      "execution_count": null,
      "metadata": {
        "id": "22eH8XtESAnj"
      },
      "outputs": [],
      "source": [
        "df = df.drop(['Close', 'High', 'Low', 'Volume', 'Name'], axis='columns')"
      ]
    },
    {
      "cell_type": "code",
      "execution_count": null,
      "metadata": {
        "colab": {
          "base_uri": "https://localhost:8080/",
          "height": 423
        },
        "id": "redLRDYqSECK",
        "outputId": "c0daf8cd-c62f-4558-a01f-0ec2fee292bb"
      },
      "outputs": [
        {
          "data": {
            "text/html": [
              "<div>\n",
              "<style scoped>\n",
              "    .dataframe tbody tr th:only-of-type {\n",
              "        vertical-align: middle;\n",
              "    }\n",
              "\n",
              "    .dataframe tbody tr th {\n",
              "        vertical-align: top;\n",
              "    }\n",
              "\n",
              "    .dataframe thead th {\n",
              "        text-align: right;\n",
              "    }\n",
              "</style>\n",
              "<table border=\"1\" class=\"dataframe\">\n",
              "  <thead>\n",
              "    <tr style=\"text-align: right;\">\n",
              "      <th></th>\n",
              "      <th>Date</th>\n",
              "      <th>Open</th>\n",
              "    </tr>\n",
              "  </thead>\n",
              "  <tbody>\n",
              "    <tr>\n",
              "      <th>0</th>\n",
              "      <td>2006-01-03</td>\n",
              "      <td>39.69</td>\n",
              "    </tr>\n",
              "    <tr>\n",
              "      <th>1</th>\n",
              "      <td>2006-01-04</td>\n",
              "      <td>41.22</td>\n",
              "    </tr>\n",
              "    <tr>\n",
              "      <th>2</th>\n",
              "      <td>2006-01-05</td>\n",
              "      <td>40.93</td>\n",
              "    </tr>\n",
              "    <tr>\n",
              "      <th>3</th>\n",
              "      <td>2006-01-06</td>\n",
              "      <td>42.88</td>\n",
              "    </tr>\n",
              "    <tr>\n",
              "      <th>4</th>\n",
              "      <td>2006-01-09</td>\n",
              "      <td>43.10</td>\n",
              "    </tr>\n",
              "    <tr>\n",
              "      <th>...</th>\n",
              "      <td>...</td>\n",
              "      <td>...</td>\n",
              "    </tr>\n",
              "    <tr>\n",
              "      <th>3014</th>\n",
              "      <td>2017-12-22</td>\n",
              "      <td>71.42</td>\n",
              "    </tr>\n",
              "    <tr>\n",
              "      <th>3015</th>\n",
              "      <td>2017-12-26</td>\n",
              "      <td>70.94</td>\n",
              "    </tr>\n",
              "    <tr>\n",
              "      <th>3016</th>\n",
              "      <td>2017-12-27</td>\n",
              "      <td>69.77</td>\n",
              "    </tr>\n",
              "    <tr>\n",
              "      <th>3017</th>\n",
              "      <td>2017-12-28</td>\n",
              "      <td>70.12</td>\n",
              "    </tr>\n",
              "    <tr>\n",
              "      <th>3018</th>\n",
              "      <td>2017-12-29</td>\n",
              "      <td>69.79</td>\n",
              "    </tr>\n",
              "  </tbody>\n",
              "</table>\n",
              "<p>3019 rows × 2 columns</p>\n",
              "</div>"
            ],
            "text/plain": [
              "           Date   Open\n",
              "0    2006-01-03  39.69\n",
              "1    2006-01-04  41.22\n",
              "2    2006-01-05  40.93\n",
              "3    2006-01-06  42.88\n",
              "4    2006-01-09  43.10\n",
              "...         ...    ...\n",
              "3014 2017-12-22  71.42\n",
              "3015 2017-12-26  70.94\n",
              "3016 2017-12-27  69.77\n",
              "3017 2017-12-28  70.12\n",
              "3018 2017-12-29  69.79\n",
              "\n",
              "[3019 rows x 2 columns]"
            ]
          },
          "execution_count": 12,
          "metadata": {},
          "output_type": "execute_result"
        }
      ],
      "source": [
        "df"
      ]
    },
    {
      "cell_type": "code",
      "execution_count": null,
      "metadata": {
        "colab": {
          "base_uri": "https://localhost:8080/",
          "height": 355
        },
        "id": "eFFvNGGfSO26",
        "outputId": "85131ca7-e0ad-4509-9368-ae2b1f5870a9"
      },
      "outputs": [
        {
          "data": {
            "text/plain": [
              "Text(0.5, 1.0, 'AABA Open Value')"
            ]
          },
          "execution_count": 14,
          "metadata": {},
          "output_type": "execute_result"
        },
        {
          "data": {
            "image/png": "[encoded data removed]",
            "text/plain": [
              "<Figure size 1080x360 with 1 Axes>"
            ]
          },
          "metadata": {
            "needs_background": "light"
          },
          "output_type": "display_data"
        }
      ],
      "source": [
        "dates = df['Date'].values\n",
        "open = df['Open'].values\n",
        "\n",
        "plt.figure(figsize=(15,5))\n",
        "plt.plot(dates, open)\n",
        "plt.title('AABA Open Value',fontsize=15)"
      ]
    },
    {
      "cell_type": "code",
      "execution_count": null,
      "metadata": {
        "colab": {
          "base_uri": "https://localhost:8080/"
        },
        "id": "Pu2CqBAGTBSf",
        "outputId": "468c9d7d-7f5e-47e4-c020-0dd129bb5834"
      },
      "outputs": [
        {
          "name": "stdout",
          "output_type": "stream",
          "text": [
            "MAE harus dibawah 63.919999999999995\n"
          ]
        }
      ],
      "source": [
        "print(\"MAE harus dibawah \"+str(df['Open'].max()-df['Open'].min()))"
      ]
    },
    {
      "cell_type": "code",
      "execution_count": null,
      "metadata": {
        "id": "Ajvgf7YGTIcu"
      },
      "outputs": [],
      "source": [
        "def windowed_dataset(series, shuffle_buffer, window_size = 40, batch_size = 100):\n",
        "    series = tf.expand_dims(series, axis=-1)\n",
        "    ds = tf.data.Dataset.from_tensor_slices(series)\n",
        "    ds = ds.window(window_size + 1, shift=1, drop_remainder=True)\n",
        "    ds = ds.flat_map(lambda w: w.batch(window_size + 1))\n",
        "    ds = ds.shuffle(shuffle_buffer)\n",
        "    ds = ds.map(lambda w: (w[:-1], w[-1:]))\n",
        "    return ds.batch(batch_size).prefetch(1)"
      ]
    },
    {
      "cell_type": "code",
      "execution_count": null,
      "metadata": {
        "id": "v1jwhsjWTR1e"
      },
      "outputs": [],
      "source": [
        "from sklearn.model_selection import train_test_split\n",
        "\n",
        "train_x, val_x, train_y, val_y = train_test_split(dates, open, test_size=0.2, shuffle=False)\n",
        "\n",
        "train_set = windowed_dataset(train_y, shuffle_buffer=1000)\n",
        "val_set = windowed_dataset(val_y, shuffle_buffer=1000)"
      ]
    },
    {
      "cell_type": "code",
      "execution_count": null,
      "metadata": {
        "id": "v8MfDOXZUITZ"
      },
      "outputs": [],
      "source": [
        "from keras.layers import Dense, LSTM, Dropout, Bidirectional \n",
        "from keras.models import Sequential\n",
        "\n",
        "model = tf.keras.models.Sequential([\n",
        "  tf.keras.layers.LSTM(60, return_sequences=True),\n",
        "  tf.keras.layers.LSTM(60),\n",
        "  tf.keras.layers.Dropout(0.2),\n",
        "  tf.keras.layers.Dense(120, activation=\"relu\"),\n",
        "  tf.keras.layers.Dense(60, activation=\"relu\"),\n",
        "  tf.keras.layers.Dense(30, activation=\"relu\"),\n",
        "  tf.keras.layers.Dense(1),\n",
        "])"
      ]
    },
    {
      "cell_type": "code",
      "execution_count": null,
      "metadata": {
        "id": "X09lWqDBVtpu"
      },
      "outputs": [],
      "source": [
        "class myCallback(tf.keras.callbacks.Callback):\n",
        "  def on_epoch_end(self, epoch, logs={}):\n",
        "    if (logs.get('mae')<10) and (logs.get('val_mae')<10):\n",
        "      print('\\nMAE sudah <10%!')\n",
        "      self.model.stop_training = True\n",
        "\n",
        "callbacks = myCallback()"
      ]
    },
    {
      "cell_type": "code",
      "execution_count": null,
      "metadata": {
        "id": "6VRwP_yPVhVv"
      },
      "outputs": [],
      "source": [
        "from tensorflow.keras.optimizers import SGD\n",
        "\n",
        "optimizer = tf.keras.optimizers.SGD(learning_rate=1.0000e-03, momentum=0.9)\n",
        "model.compile(loss=tf.keras.losses.Huber(),\n",
        "              optimizer=optimizer,\n",
        "              metrics=[\"mae\"])"
      ]
    },
    {
      "cell_type": "code",
      "execution_count": null,
      "metadata": {
        "colab": {
          "base_uri": "https://localhost:8080/"
        },
        "id": "majCBSS0V_d2",
        "outputId": "82ea2b15-4266-46f4-c91d-c351fcfcb98b"
      },
      "outputs": [
        {
          "name": "stdout",
          "output_type": "stream",
          "text": [
            "Epoch 1/100\n",
            "24/24 [==============================] - 7s 77ms/step - loss: 23.3583 - mae: 23.8583 - val_loss: 44.1517 - val_mae: 44.6517\n",
            "Epoch 2/100\n",
            "24/24 [==============================] - 1s 37ms/step - loss: 21.3880 - mae: 21.8880 - val_loss: 39.0766 - val_mae: 39.5766\n",
            "Epoch 3/100\n",
            "24/24 [==============================] - 1s 36ms/step - loss: 9.2662 - mae: 9.7596 - val_loss: 17.0643 - val_mae: 17.5621\n",
            "Epoch 4/100\n",
            "24/24 [==============================] - 1s 38ms/step - loss: 7.9750 - mae: 8.4571 - val_loss: 12.7192 - val_mae: 13.2072\n",
            "Epoch 5/100\n",
            "24/24 [==============================] - 1s 44ms/step - loss: 8.0422 - mae: 8.5246 - val_loss: 11.7715 - val_mae: 12.2565\n",
            "Epoch 6/100\n",
            "24/24 [==============================] - 1s 38ms/step - loss: 7.2283 - mae: 7.7132 - val_loss: 13.0563 - val_mae: 13.5493\n",
            "Epoch 7/100\n",
            "24/24 [==============================] - 1s 36ms/step - loss: 6.3463 - mae: 6.8280 - val_loss: 13.8422 - val_mae: 14.3367\n",
            "Epoch 8/100\n",
            "24/24 [==============================] - 1s 36ms/step - loss: 4.2963 - mae: 4.7698 - val_loss: 10.3340 - val_mae: 10.8332\n",
            "Epoch 9/100\n",
            "24/24 [==============================] - 1s 38ms/step - loss: 1.8399 - mae: 2.2879 - val_loss: 4.8656 - val_mae: 5.3160\n",
            "\n",
            "MAE sudah <10%!\n"
          ]
        }
      ],
      "source": [
        "history = model.fit(train_set, epochs=100, validation_data=val_set, callbacks=callbacks)"
      ]
    },
    {
      "cell_type": "code",
      "execution_count": null,
      "metadata": {
        "colab": {
          "base_uri": "https://localhost:8080/",
          "height": 295
        },
        "id": "akFtvLqRWT58",
        "outputId": "735c3b9f-98fc-4b47-da62-eee99ad58b5b"
      },
      "outputs": [
        {
          "data": {
            "image/png": "[encoded data removed]",
            "text/plain": [
              "<Figure size 432x288 with 1 Axes>"
            ]
          },
          "metadata": {
            "needs_background": "light"
          },
          "output_type": "display_data"
        }
      ],
      "source": [
        "plt.plot(history.history['loss'])\n",
        "plt.plot(history.history['val_loss'])\n",
        "plt.title('Model loss')\n",
        "plt.ylabel('Loss')\n",
        "plt.xlabel('Epoch')\n",
        "plt.legend(['Train','Test'], loc='upper right')\n",
        "plt.show()"
      ]
    },
    {
      "cell_type": "code",
      "execution_count": null,
      "metadata": {
        "colab": {
          "base_uri": "https://localhost:8080/",
          "height": 295
        },
        "id": "qmRGxJk8Wgjr",
        "outputId": "efc4ed8b-062b-4b80-f47d-cce766640b85"
      },
      "outputs": [
        {
          "data": {
            "image/png": "[encoded data removed]",
            "text/plain": [
              "<Figure size 432x288 with 1 Axes>"
            ]
          },
          "metadata": {
            "needs_background": "light"
          },
          "output_type": "display_data"
        }
      ],
      "source": [
        "plt.plot(history.history['mae'])\n",
        "plt.plot(history.history['val_mae'])\n",
        "plt.title('Model MAE')\n",
        "plt.ylabel('MAE')\n",
        "plt.xlabel('Epoch')\n",
        "plt.legend(['Train','Test'], loc='lower right')\n",
        "plt.show()"
      ]
    },
    {
      "cell_type": "code",
      "execution_count": null,
      "metadata": {},
      "outputs": [],
      "source": []
    }
  ],
  "metadata": {
    "accelerator": "GPU",
    "colab": {
      "name": "time-series.ipynb",
      "provenance": []
    },
    "kernelspec": {
      "display_name": "Python 3",
      "name": "python3"
    },
    "language_info": {
      "name": "python"
    }
  },
  "nbformat": 4,
  "nbformat_minor": 0
}
